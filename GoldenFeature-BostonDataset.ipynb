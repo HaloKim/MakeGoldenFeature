{
 "cells": [
  {
   "cell_type": "code",
   "execution_count": 1,
   "id": "f7bb18ab-d387-4263-815c-e00edd7246bd",
   "metadata": {
    "tags": []
   },
   "outputs": [
    {
     "name": "stdout",
     "output_type": "stream",
     "text": [
      "BEFORE MSE: 24.2911194749736\n"
     ]
    }
   ],
   "source": [
    "import numpy as np\n",
    "import pandas as pd\n",
    "from sklearn.datasets import load_boston\n",
    "from sklearn.linear_model import LinearRegression\n",
    "from sklearn.model_selection import train_test_split\n",
    "from sklearn.metrics import mean_squared_error\n",
    "import warnings\n",
    "warnings.filterwarnings('ignore')\n",
    "\n",
    "# 보스턴 주택 가격 데이터셋 로드\n",
    "boston = load_boston()\n",
    "\n",
    "# 데이터셋을 DataFrame으로 변환\n",
    "df = pd.DataFrame(boston.data, columns=boston.feature_names)\n",
    "df['target'] = boston.target\n",
    "\n",
    "# 입력 데이터와 출력 데이터\n",
    "X = df.drop('target', axis=1)\n",
    "y = df['target']\n",
    "\n",
    "# 데이터 분할: 학습 데이터와 테스트 데이터\n",
    "X_train, X_test, y_train, y_test = train_test_split(X, y, test_size=0.2, random_state=42)\n",
    "\n",
    "# 선형 회귀 모델 생성\n",
    "model = LinearRegression()\n",
    "\n",
    "# 모델 학습\n",
    "model.fit(X_train, y_train)\n",
    "\n",
    "# 학습된 모델을 사용하여 테스트 데이터 예측\n",
    "y_pred = model.predict(X_test)\n",
    "\n",
    "# 평균 제곱 오차(Mean Squared Error) 계산\n",
    "before_mse = mean_squared_error(y_test, y_pred)\n",
    "print(\"BEFORE MSE:\", before_mse)"
   ]
  },
  {
   "cell_type": "code",
   "execution_count": 2,
   "id": "4355a8af-1d2c-4210-bebe-af0fa7ecb8ed",
   "metadata": {
    "tags": []
   },
   "outputs": [
    {
     "name": "stderr",
     "output_type": "stream",
     "text": [
      "100%|███████████████████████████████████████████████████████████████████████████████| 312/312 [00:01<00:00, 225.51it/s]\n"
     ]
    },
    {
     "data": {
      "text/plain": [
       "[{'Feature': 'NOX_plus_PTRATIO', 'Score': 0.8822110289465535},\n",
       " {'Feature': 'RM_divide_B', 'Score': 0.8669953317836949},\n",
       " {'Feature': 'TAX_plus_PTRATIO', 'Score': 0.8668896359860812},\n",
       " {'Feature': 'RM_divide_RAD', 'Score': 0.8664016362396519},\n",
       " {'Feature': 'TAX_divide_B', 'Score': 0.8661958667613189},\n",
       " {'Feature': 'B_divide_LSTAT', 'Score': 0.8649016554522404},\n",
       " {'Feature': 'RM_multiply_AGE', 'Score': 0.8635321077767777},\n",
       " {'Feature': 'CRIM_multiply_PTRATIO', 'Score': 0.8631138222798383},\n",
       " {'Feature': 'DIS_multiply_LSTAT', 'Score': 0.8619849012074536},\n",
       " {'Feature': 'CRIM_divide_AGE', 'Score': 0.8617352792173447}]"
      ]
     },
     "execution_count": 2,
     "metadata": {},
     "output_type": "execute_result"
    }
   ],
   "source": [
    "import pandas as pd\n",
    "import numpy as np\n",
    "from sklearn.model_selection import train_test_split\n",
    "from sklearn.tree import DecisionTreeRegressor, DecisionTreeClassifier\n",
    "from sklearn.preprocessing import OrdinalEncoder, StandardScaler\n",
    "import itertools\n",
    "from tqdm import tqdm\n",
    "import json\n",
    "\n",
    "task = None\n",
    "\n",
    "# Dataload\n",
    "df = pd.DataFrame(boston.data, columns=boston.feature_names)\n",
    "df['target'] = boston.target\n",
    "\n",
    "# Check Data Task\n",
    "label_mean = np.mean(df['target'])\n",
    "label_std = np.std(df['target'])\n",
    "\n",
    "# isRegression\n",
    "if label_std > 0:  \n",
    "    task = 'reg'\n",
    "\n",
    "# Preprocess\n",
    "def apply_ordinal_encoder(df):\n",
    "    encoder = OrdinalEncoder(handle_unknown='use_encoded_value', unknown_value=-1)\n",
    "\n",
    "    for column in df.columns:\n",
    "        if df[column].dtype == 'object' or df[column].dtype == 'str':\n",
    "            encoded_data = encoder.fit_transform(df[[column]])\n",
    "            df[column] = encoded_data\n",
    "    return df\n",
    "\n",
    "\n",
    "def scaler(df):\n",
    "    scaler = StandardScaler()\n",
    "    scaled_df = scaler.fit_transform(df)\n",
    "    return pd.DataFrame(scaled_df, columns=df.columns).astype('float32')\n",
    "\n",
    "\n",
    "X = apply_ordinal_encoder(df.drop(['target'], axis=1))\n",
    "X = scaler(X)\n",
    "\n",
    "\n",
    "# SET eval model\n",
    "def evaluate_model(X_train, X_test, y_train, y_test, task):\n",
    "    if task == 'reg':\n",
    "        model = DecisionTreeRegressor()\n",
    "    else:\n",
    "        model = DecisionTreeClassifier()\n",
    "    model.fit(X_train, y_train)\n",
    "    score = model.score(X_test, y_test)\n",
    "    return score\n",
    "\n",
    "\n",
    "# Make Golden Feature\n",
    "def create_new_features(df):\n",
    "    new_features = pd.DataFrame()\n",
    "    \n",
    "    # Feature Combinations\n",
    "    combinations = list(itertools.combinations(df.columns, 2))\n",
    "\n",
    "    # plus, multiply, devide, minus\n",
    "    for col1, col2 in combinations:\n",
    "        new_features.loc[:, f'{col1}_plus_{col2}'] = df[col1] + df[col2]\n",
    "        new_features.loc[:, f'{col1}_multiply_{col2}'] = df[col1] * df[col2]\n",
    "        new_features.loc[:, f'{col1}_divide_{col2}'] = df[col1] / df[col2]\n",
    "        new_features.loc[:, f'{col1}_minus_{col2}'] = df[col1] - df[col2]\n",
    "\n",
    "    return new_features\n",
    "\n",
    "\n",
    "X_train_new = X.copy()\n",
    "new_features = create_new_features(X_train_new)\n",
    "\n",
    "# Each Golden Feature Scoring\n",
    "scores = []\n",
    "for new_feature in tqdm(new_features.columns):\n",
    "    new_df = pd.concat([X_train_new, new_features[[new_feature]]], axis=1)\n",
    "\n",
    "    # Test\n",
    "    if task == 'reg':\n",
    "        X_train, X_test, y_train, y_test = train_test_split(new_df, y, random_state=42)\n",
    "    else:\n",
    "        X_train, X_test, y_train, y_test = train_test_split(new_df, y, stratify=y, random_state=42)\n",
    "    score = evaluate_model(X_train, X_test, y_train, y_test, task)\n",
    "    scores.append((new_feature, score))\n",
    "\n",
    "# Sorting Score\n",
    "sorted_scores = sorted(scores, key=lambda x: x[1], reverse=True)\n",
    "\n",
    "# Make Dict\n",
    "results = []\n",
    "for feature, score in sorted_scores:\n",
    "    result = {'Feature': feature, 'Score': score}\n",
    "    results.append(result)\n",
    "top10 = results[:10]\n",
    "top10"
   ]
  },
  {
   "cell_type": "code",
   "execution_count": 3,
   "id": "bb6216ba-8092-46fc-bcfd-086ab3d4fa25",
   "metadata": {
    "tags": []
   },
   "outputs": [
    {
     "name": "stdout",
     "output_type": "stream",
     "text": [
      "BEFORE MSE: 24.2911194749736\n",
      "AFTER MSE: 17.55893128587233\n"
     ]
    }
   ],
   "source": [
    "# 보스턴 주택 가격 데이터셋 로드\n",
    "boston = load_boston()\n",
    "\n",
    "# 데이터셋을 DataFrame으로 변환\n",
    "df = pd.DataFrame(boston.data, columns=boston.feature_names)\n",
    "df['target'] = boston.target\n",
    "\n",
    "for col in top10:\n",
    "    tmp = list(col.values())[0].split('_')\n",
    "    f1, f2 = tmp[0], tmp[-1]\n",
    "    if tmp[1] == 'multiply':\n",
    "        df.loc[:, f'{f1}_multiply_{f2}'] = df[f1] * df[f2]\n",
    "    elif tmp[1] == 'minus':\n",
    "        df.loc[:, f'{f1}_minus_{f2}'] = df[f1] - df[f2]\n",
    "    elif tmp[1] == 'plus':\n",
    "        df.loc[:, f'{f1}_plus_{f2}'] = df[f1] + df[f2]\n",
    "    elif tmp[1] == 'divide':\n",
    "        df.loc[:, f'{f1}_divide_{f2}'] = df[f1] / df[f2]\n",
    "        \n",
    "# 입력 데이터와 출력 데이터\n",
    "X = df.drop('target', axis=1)\n",
    "y = df['target']\n",
    "\n",
    "# 데이터 분할: 학습 데이터와 테스트 데이터\n",
    "X_train, X_test, y_train, y_test = train_test_split(X, y, test_size=0.2, random_state=42)\n",
    "\n",
    "# 선형 회귀 모델 생성\n",
    "model = LinearRegression()\n",
    "\n",
    "# 모델 학습\n",
    "model.fit(X_train, y_train)\n",
    "\n",
    "# 학습된 모델을 사용하여 테스트 데이터 예측\n",
    "y_pred = model.predict(X_test)\n",
    "\n",
    "# 평균 제곱 오차(Mean Squared Error) 계산\n",
    "mse = mean_squared_error(y_test, y_pred)\n",
    "print(\"BEFORE MSE:\", before_mse)\n",
    "print(\"AFTER MSE:\", mse)"
   ]
  },
  {
   "cell_type": "code",
   "execution_count": null,
   "id": "dc884cb6-e136-4f6e-a000-2ca23afa7bc6",
   "metadata": {},
   "outputs": [],
   "source": []
  }
 ],
 "metadata": {
  "kernelspec": {
   "display_name": "Python 3 (ipykernel)",
   "language": "python",
   "name": "python3"
  },
  "language_info": {
   "codemirror_mode": {
    "name": "ipython",
    "version": 3
   },
   "file_extension": ".py",
   "mimetype": "text/x-python",
   "name": "python",
   "nbconvert_exporter": "python",
   "pygments_lexer": "ipython3",
   "version": "3.7.16"
  }
 },
 "nbformat": 4,
 "nbformat_minor": 5
}
